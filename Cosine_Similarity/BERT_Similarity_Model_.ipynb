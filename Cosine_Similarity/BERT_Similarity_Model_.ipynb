{
  "cells": [
    {
      "cell_type": "markdown",
      "metadata": {
        "id": "5Wua_pP8Ec06"
      },
      "source": [
        "**Install Required Libraries**\n",
        "\n",
        "Run this cell to install all necessary packages:"
      ]
    },
    {
      "cell_type": "code",
      "execution_count": null,
      "metadata": {
        "id": "Y6uxfMWhDsvY"
      },
      "outputs": [],
      "source": [
        "!pip install -q sentence-transformers scipy pandas matplotlib seaborn\n"
      ]
    },
    {
      "cell_type": "code",
      "execution_count": 1,
      "metadata": {
        "id": "Wg91iyE4Dl_w"
      },
      "outputs": [
        {
          "data": {
            "text/html": [
              "<div>\n",
              "<style scoped>\n",
              "    .dataframe tbody tr th:only-of-type {\n",
              "        vertical-align: middle;\n",
              "    }\n",
              "\n",
              "    .dataframe tbody tr th {\n",
              "        vertical-align: top;\n",
              "    }\n",
              "\n",
              "    .dataframe thead th {\n",
              "        text-align: right;\n",
              "    }\n",
              "</style>\n",
              "<table border=\"1\" class=\"dataframe\">\n",
              "  <thead>\n",
              "    <tr style=\"text-align: right;\">\n",
              "      <th></th>\n",
              "      <th>challengeId</th>\n",
              "      <th>handle</th>\n",
              "      <th>Ativity Type</th>\n",
              "      <th>Win Percentage</th>\n",
              "      <th>activechallenges</th>\n",
              "      <th>completedchallenges</th>\n",
              "      <th>member life</th>\n",
              "      <th>Recency</th>\n",
              "      <th>review Success Rate</th>\n",
              "      <th>member_skills</th>\n",
              "      <th>...</th>\n",
              "      <th>id</th>\n",
              "      <th>task_title</th>\n",
              "      <th>task skills</th>\n",
              "      <th>Profile Overview</th>\n",
              "      <th>challenge description</th>\n",
              "      <th>Cosine_similarity_score_task_titles_current_past</th>\n",
              "      <th>Cosine_similarity_score_task_descriptions_current_past</th>\n",
              "      <th>Cosine_similarity_score_task_skills_current_past</th>\n",
              "      <th>Cosine_similarity_descriptions</th>\n",
              "      <th>Cosine_similarity_skills</th>\n",
              "    </tr>\n",
              "  </thead>\n",
              "  <tbody>\n",
              "    <tr>\n",
              "      <th>0</th>\n",
              "      <td>8bfb194b-aee8-4e4e-af7e-50e42a5d4cad</td>\n",
              "      <td>webexp</td>\n",
              "      <td>CODE</td>\n",
              "      <td>0.00</td>\n",
              "      <td>24.0</td>\n",
              "      <td>0.0</td>\n",
              "      <td>1706.0</td>\n",
              "      <td>10.0</td>\n",
              "      <td>0.00</td>\n",
              "      <td>.NET, Ajax, ASP.NET, Bootstrap, C#, C++, CSS, ...</td>\n",
              "      <td>...</td>\n",
              "      <td>8bfb194b-aee8-4e4e-af7e-50e42a5d4cad</td>\n",
              "      <td>Gigs App: Gigs Apply Page Integration Challenge</td>\n",
              "      <td>ReactJS, SCSS, JavaScript, HTML</td>\n",
              "      <td>I am an Expert Web and Software Application De...</td>\n",
              "      <td>## **Challenge Overview**## **Challenge Object...</td>\n",
              "      <td>1.000000</td>\n",
              "      <td>0.891513</td>\n",
              "      <td>1.000000</td>\n",
              "      <td>0.362173</td>\n",
              "      <td>0.314588</td>\n",
              "    </tr>\n",
              "    <tr>\n",
              "      <th>1</th>\n",
              "      <td>8bfb194b-aee8-4e4e-af7e-50e42a5d4cad</td>\n",
              "      <td>gauravseta</td>\n",
              "      <td>CODE</td>\n",
              "      <td>14.39</td>\n",
              "      <td>3.0</td>\n",
              "      <td>50.0</td>\n",
              "      <td>1837.0</td>\n",
              "      <td>10.0</td>\n",
              "      <td>39.07</td>\n",
              "      <td>QA, 3D Reconstruction, .NET, Android, AngularJ...</td>\n",
              "      <td>...</td>\n",
              "      <td>8bfb194b-aee8-4e4e-af7e-50e42a5d4cad</td>\n",
              "      <td>Gigs App: Gigs Apply Page Integration Challenge</td>\n",
              "      <td>ReactJS, SCSS, JavaScript, HTML</td>\n",
              "      <td>Trying best</td>\n",
              "      <td>## **Challenge Overview**## **Challenge Object...</td>\n",
              "      <td>1.000000</td>\n",
              "      <td>1.000000</td>\n",
              "      <td>1.000000</td>\n",
              "      <td>0.248766</td>\n",
              "      <td>0.605141</td>\n",
              "    </tr>\n",
              "    <tr>\n",
              "      <th>2</th>\n",
              "      <td>8bfb194b-aee8-4e4e-af7e-50e42a5d4cad</td>\n",
              "      <td>anshh31</td>\n",
              "      <td>CODE</td>\n",
              "      <td>33.33</td>\n",
              "      <td>11.0</td>\n",
              "      <td>18.0</td>\n",
              "      <td>3859.0</td>\n",
              "      <td>9.0</td>\n",
              "      <td>67.71</td>\n",
              "      <td>AWS, Microservices, Selenium, Ajax, Algorithm,...</td>\n",
              "      <td>...</td>\n",
              "      <td>8bfb194b-aee8-4e4e-af7e-50e42a5d4cad</td>\n",
              "      <td>Gigs App: Gigs Apply Page Integration Challenge</td>\n",
              "      <td>ReactJS, SCSS, JavaScript, HTML</td>\n",
              "      <td>Software Developer | Competitive Programmer</td>\n",
              "      <td>## **Challenge Overview**## **Challenge Object...</td>\n",
              "      <td>1.000000</td>\n",
              "      <td>1.000000</td>\n",
              "      <td>1.000000</td>\n",
              "      <td>0.251864</td>\n",
              "      <td>0.499446</td>\n",
              "    </tr>\n",
              "    <tr>\n",
              "      <th>3</th>\n",
              "      <td>8bfb194b-aee8-4e4e-af7e-50e42a5d4cad</td>\n",
              "      <td>ndungujan23</td>\n",
              "      <td>CODE</td>\n",
              "      <td>29.63</td>\n",
              "      <td>1.0</td>\n",
              "      <td>25.0</td>\n",
              "      <td>686.0</td>\n",
              "      <td>10.0</td>\n",
              "      <td>29.63</td>\n",
              "      <td>Frontend, AngularJS, Django, Docker, Git, Java...</td>\n",
              "      <td>...</td>\n",
              "      <td>8bfb194b-aee8-4e4e-af7e-50e42a5d4cad</td>\n",
              "      <td>Gigs App: Gigs Apply Page Integration Challenge</td>\n",
              "      <td>ReactJS, SCSS, JavaScript, HTML</td>\n",
              "      <td>Short Bio</td>\n",
              "      <td>## **Challenge Overview**## **Challenge Object...</td>\n",
              "      <td>1.000000</td>\n",
              "      <td>1.000000</td>\n",
              "      <td>1.000000</td>\n",
              "      <td>0.055034</td>\n",
              "      <td>0.584691</td>\n",
              "    </tr>\n",
              "    <tr>\n",
              "      <th>4</th>\n",
              "      <td>30150750-d9c9-48a6-89c2-2006c7e5fa2f</td>\n",
              "      <td>Schpotsky</td>\n",
              "      <td>CODE</td>\n",
              "      <td>14.27</td>\n",
              "      <td>12.0</td>\n",
              "      <td>50.0</td>\n",
              "      <td>5310.0</td>\n",
              "      <td>9.0</td>\n",
              "      <td>35.46</td>\n",
              "      <td>AWS, QA, Microservices, Android, AngularJS, Ap...</td>\n",
              "      <td>...</td>\n",
              "      <td>30150750-d9c9-48a6-89c2-2006c7e5fa2f</td>\n",
              "      <td>Odyssey Corporate Website - series integration #2</td>\n",
              "      <td>ReactJS, TypeScript, Drupal, API, Frontend</td>\n",
              "      <td>An Independent Software Developer with more th...</td>\n",
              "      <td>![Odyssey](https://drive.google.com/uc?export=...</td>\n",
              "      <td>0.871393</td>\n",
              "      <td>0.968577</td>\n",
              "      <td>0.870728</td>\n",
              "      <td>0.608693</td>\n",
              "      <td>0.210898</td>\n",
              "    </tr>\n",
              "  </tbody>\n",
              "</table>\n",
              "<p>5 rows × 22 columns</p>\n",
              "</div>"
            ],
            "text/plain": [
              "                            challengeId       handle Ativity Type  \\\n",
              "0  8bfb194b-aee8-4e4e-af7e-50e42a5d4cad       webexp         CODE   \n",
              "1  8bfb194b-aee8-4e4e-af7e-50e42a5d4cad   gauravseta         CODE   \n",
              "2  8bfb194b-aee8-4e4e-af7e-50e42a5d4cad      anshh31         CODE   \n",
              "3  8bfb194b-aee8-4e4e-af7e-50e42a5d4cad  ndungujan23         CODE   \n",
              "4  30150750-d9c9-48a6-89c2-2006c7e5fa2f    Schpotsky         CODE   \n",
              "\n",
              "   Win Percentage  activechallenges  completedchallenges  member life  \\\n",
              "0            0.00              24.0                  0.0       1706.0   \n",
              "1           14.39               3.0                 50.0       1837.0   \n",
              "2           33.33              11.0                 18.0       3859.0   \n",
              "3           29.63               1.0                 25.0        686.0   \n",
              "4           14.27              12.0                 50.0       5310.0   \n",
              "\n",
              "   Recency  review Success Rate  \\\n",
              "0     10.0                 0.00   \n",
              "1     10.0                39.07   \n",
              "2      9.0                67.71   \n",
              "3     10.0                29.63   \n",
              "4      9.0                35.46   \n",
              "\n",
              "                                       member_skills  ...  \\\n",
              "0  .NET, Ajax, ASP.NET, Bootstrap, C#, C++, CSS, ...  ...   \n",
              "1  QA, 3D Reconstruction, .NET, Android, AngularJ...  ...   \n",
              "2  AWS, Microservices, Selenium, Ajax, Algorithm,...  ...   \n",
              "3  Frontend, AngularJS, Django, Docker, Git, Java...  ...   \n",
              "4  AWS, QA, Microservices, Android, AngularJS, Ap...  ...   \n",
              "\n",
              "                                     id  \\\n",
              "0  8bfb194b-aee8-4e4e-af7e-50e42a5d4cad   \n",
              "1  8bfb194b-aee8-4e4e-af7e-50e42a5d4cad   \n",
              "2  8bfb194b-aee8-4e4e-af7e-50e42a5d4cad   \n",
              "3  8bfb194b-aee8-4e4e-af7e-50e42a5d4cad   \n",
              "4  30150750-d9c9-48a6-89c2-2006c7e5fa2f   \n",
              "\n",
              "                                          task_title  \\\n",
              "0    Gigs App: Gigs Apply Page Integration Challenge   \n",
              "1    Gigs App: Gigs Apply Page Integration Challenge   \n",
              "2    Gigs App: Gigs Apply Page Integration Challenge   \n",
              "3    Gigs App: Gigs Apply Page Integration Challenge   \n",
              "4  Odyssey Corporate Website - series integration #2   \n",
              "\n",
              "                                  task skills  \\\n",
              "0             ReactJS, SCSS, JavaScript, HTML   \n",
              "1             ReactJS, SCSS, JavaScript, HTML   \n",
              "2             ReactJS, SCSS, JavaScript, HTML   \n",
              "3             ReactJS, SCSS, JavaScript, HTML   \n",
              "4  ReactJS, TypeScript, Drupal, API, Frontend   \n",
              "\n",
              "                                    Profile Overview  \\\n",
              "0  I am an Expert Web and Software Application De...   \n",
              "1                                        Trying best   \n",
              "2        Software Developer | Competitive Programmer   \n",
              "3                                          Short Bio   \n",
              "4  An Independent Software Developer with more th...   \n",
              "\n",
              "                               challenge description  \\\n",
              "0  ## **Challenge Overview**## **Challenge Object...   \n",
              "1  ## **Challenge Overview**## **Challenge Object...   \n",
              "2  ## **Challenge Overview**## **Challenge Object...   \n",
              "3  ## **Challenge Overview**## **Challenge Object...   \n",
              "4  ![Odyssey](https://drive.google.com/uc?export=...   \n",
              "\n",
              "  Cosine_similarity_score_task_titles_current_past  \\\n",
              "0                                         1.000000   \n",
              "1                                         1.000000   \n",
              "2                                         1.000000   \n",
              "3                                         1.000000   \n",
              "4                                         0.871393   \n",
              "\n",
              "  Cosine_similarity_score_task_descriptions_current_past  \\\n",
              "0                                           0.891513       \n",
              "1                                           1.000000       \n",
              "2                                           1.000000       \n",
              "3                                           1.000000       \n",
              "4                                           0.968577       \n",
              "\n",
              "   Cosine_similarity_score_task_skills_current_past  \\\n",
              "0                                          1.000000   \n",
              "1                                          1.000000   \n",
              "2                                          1.000000   \n",
              "3                                          1.000000   \n",
              "4                                          0.870728   \n",
              "\n",
              "   Cosine_similarity_descriptions  Cosine_similarity_skills  \n",
              "0                        0.362173                  0.314588  \n",
              "1                        0.248766                  0.605141  \n",
              "2                        0.251864                  0.499446  \n",
              "3                        0.055034                  0.584691  \n",
              "4                        0.608693                  0.210898  \n",
              "\n",
              "[5 rows x 22 columns]"
            ]
          },
          "execution_count": 1,
          "metadata": {},
          "output_type": "execute_result"
        }
      ],
      "source": [
        "import pandas as pd\n",
        "\n",
        "# Load your dataset from Google Drive\n",
        "df = pd.read_csv('C:/Users/nouri/Documents/EMSE_paper/DRECT-main/Cosine_similarity_77/full_data_updated.csv')\n",
        "\n",
        "# Display the first few rows to ensure it's loaded correctly\n",
        "df.head()\n"
      ]
    },
    {
      "cell_type": "markdown",
      "metadata": {
        "id": "E8opwgX8Oq_U"
      },
      "source": [
        "**Check and Clean Column Names**\n",
        "\n",
        "For Verification of column names to avoid the KeyError:"
      ]
    },
    {
      "cell_type": "code",
      "execution_count": 2,
      "metadata": {
        "id": "B0KeFKcVFGdE"
      },
      "outputs": [
        {
          "name": "stdout",
          "output_type": "stream",
          "text": [
            "Index(['challengeId', 'handle', 'Ativity Type', 'Win Percentage',\n",
            "       'activechallenges', 'completedchallenges', 'member life', 'Recency',\n",
            "       'review Success Rate', 'member_skills', 'submission Rate',\n",
            "       'topcoder rating', 'id', 'task_title', 'task skills',\n",
            "       'Profile Overview', 'challenge description',\n",
            "       'Cosine_similarity_score_task_titles_current_past',\n",
            "       'Cosine_similarity_score_task_descriptions_current_past',\n",
            "       'Cosine_similarity_score_task_skills_current_past',\n",
            "       'Cosine_similarity_descriptions', 'Cosine_similarity_skills'],\n",
            "      dtype='object')\n"
          ]
        }
      ],
      "source": [
        "# Clean column names\n",
        "df.columns = df.columns.str.strip()\n",
        "print(df.columns)\n"
      ]
    },
    {
      "cell_type": "markdown",
      "metadata": {
        "id": "gSupfInoP8oN"
      },
      "source": [
        "**Import Libraries**"
      ]
    },
    {
      "cell_type": "code",
      "execution_count": 3,
      "metadata": {
        "id": "6xjdUtQTFlov"
      },
      "outputs": [
        {
          "name": "stderr",
          "output_type": "stream",
          "text": [
            "c:\\Users\\nouri\\AppData\\Local\\Programs\\Python\\Python312\\Lib\\site-packages\\tqdm\\auto.py:21: TqdmWarning: IProgress not found. Please update jupyter and ipywidgets. See https://ipywidgets.readthedocs.io/en/stable/user_install.html\n",
            "  from .autonotebook import tqdm as notebook_tqdm\n"
          ]
        }
      ],
      "source": [
        "import pandas as pd\n",
        "from sentence_transformers import SentenceTransformer, util\n",
        "import numpy as np\n"
      ]
    },
    {
      "cell_type": "markdown",
      "metadata": {
        "id": "wwdpvb-YG5im"
      },
      "source": [
        "**Load the SBERT model**"
      ]
    },
    {
      "cell_type": "code",
      "execution_count": 4,
      "metadata": {
        "id": "DJaadI64Gxb2"
      },
      "outputs": [],
      "source": [
        "\n",
        "from sentence_transformers import SentenceTransformer\n",
        "\n",
        "model = SentenceTransformer('all-MiniLM-L6-v2')\n"
      ]
    },
    {
      "cell_type": "markdown",
      "metadata": {
        "id": "wQNHLPUEGDRW"
      },
      "source": [
        "**Define Similarity Function**"
      ]
    },
    {
      "cell_type": "code",
      "execution_count": 5,
      "metadata": {
        "id": "O7X9VdwRGC3Z"
      },
      "outputs": [],
      "source": [
        "def compute_similarity(text1, text2):\n",
        "    if pd.isna(text1) or pd.isna(text2):\n",
        "        return np.nan\n",
        "    embedding1 = model.encode(str(text1), convert_to_tensor=True)\n",
        "    embedding2 = model.encode(str(text2), convert_to_tensor=True)\n",
        "    return float(util.pytorch_cos_sim(embedding1, embedding2))\n"
      ]
    },
    {
      "cell_type": "markdown",
      "metadata": {
        "id": "L0toSa6AGUUz"
      },
      "source": [
        "**Compute SBERT Similarities**"
      ]
    },
    {
      "cell_type": "code",
      "execution_count": 6,
      "metadata": {
        "id": "pULH5L4UGVFT"
      },
      "outputs": [],
      "source": [
        "# 1. Task title vs Profile Overview (or past task title if available)\n",
        "df['SBERT_similarity_task_titles'] = df.apply(\n",
        "    lambda row: compute_similarity(row['task_title'], row['Profile Overview']), axis=1\n",
        ")\n",
        "\n",
        "# 2. Task description vs Profile Overview\n",
        "df['SBERT_similarity_task_descriptions'] = df.apply(\n",
        "    lambda row: compute_similarity(row['challenge description'], row['Profile Overview']), axis=1\n",
        ")\n",
        "\n",
        "# 3. Task skills vs Member skills\n",
        "df['SBERT_similarity_task_skills'] = df.apply(\n",
        "    lambda row: compute_similarity(row['task skills'], row['member_skills']), axis=1\n",
        ")\n",
        "\n",
        "# 4. Task description vs Developer profile again (redundant but okay if needed)\n",
        "df['SBERT_similarity_description_vs_profile'] = df.apply(\n",
        "    lambda row: compute_similarity(row['challenge description'], row['Profile Overview']), axis=1\n",
        ")\n",
        "\n",
        "# 5. Task skills vs Member skills again (same as #3 — optional)\n",
        "df['SBERT_similarity_skills'] = df.apply(\n",
        "    lambda row: compute_similarity(row['task skills'], row['member_skills']), axis=1\n",
        ")\n"
      ]
    },
    {
      "cell_type": "markdown",
      "metadata": {
        "id": "5YRiSdVoJk5W"
      },
      "source": [
        "**Replacing Old Column Names with SBERT Values**"
      ]
    },
    {
      "cell_type": "code",
      "execution_count": 7,
      "metadata": {
        "id": "ZTz9jWAqI3iZ"
      },
      "outputs": [],
      "source": [
        "df.rename(columns={\n",
        "    'SBERT_similarity_task_titles': 'Cosine_similarity_score_task_titles_current_past',\n",
        "    'SBERT_similarity_task_descriptions': 'Cosine_similarity_score_task_descriptions_current_past',\n",
        "    'SBERT_similarity_task_skills': 'Cosine_similarity_score_task_skills_current_past',\n",
        "    'SBERT_similarity_description_vs_profile': 'Cosine_similarity_descriptions',\n",
        "    'SBERT_similarity_skills': 'Cosine_similarity_skills'\n",
        "}, inplace=True)\n"
      ]
    },
    {
      "cell_type": "markdown",
      "metadata": {
        "id": "f9SJyX5QJul-"
      },
      "source": [
        "**Save Final CSV File**"
      ]
    },
    {
      "cell_type": "code",
      "execution_count": 8,
      "metadata": {
        "id": "g_xCbd8qJ0Ft"
      },
      "outputs": [
        {
          "name": "stdout",
          "output_type": "stream",
          "text": [
            "✅ File saved successfully to: C:/Users/nouri/Documents/EMSE_paper/DRECT-main/Cosine_similarity_77/full_data_updated_output22.csv\n"
          ]
        }
      ],
      "source": [
        "output_path = 'C:/Users/nouri/Documents/EMSE_paper/DRECT-main/Cosine_similarity_77/full_data_updated_output22.csv'\n",
        "df.to_csv(output_path, index=False)\n",
        "print(f\"✅ File saved successfully to: {output_path}\")\n"
      ]
    },
    {
      "cell_type": "code",
      "execution_count": null,
      "metadata": {
        "id": "zsqMgcUJKtDI"
      },
      "outputs": [],
      "source": []
    }
  ],
  "metadata": {
    "accelerator": "GPU",
    "colab": {
      "gpuType": "T4",
      "provenance": []
    },
    "kernelspec": {
      "display_name": "Python 3",
      "name": "python3"
    },
    "language_info": {
      "codemirror_mode": {
        "name": "ipython",
        "version": 3
      },
      "file_extension": ".py",
      "mimetype": "text/x-python",
      "name": "python",
      "nbconvert_exporter": "python",
      "pygments_lexer": "ipython3",
      "version": "3.12.4"
    }
  },
  "nbformat": 4,
  "nbformat_minor": 0
}
